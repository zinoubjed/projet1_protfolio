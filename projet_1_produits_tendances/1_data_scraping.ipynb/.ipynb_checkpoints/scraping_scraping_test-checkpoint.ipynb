{
 "cells": [
  {
   "cell_type": "markdown",
   "id": "8ce9302f-1357-49c6-99c1-b63f62d8a2e3",
   "metadata": {},
   "source": [
    "# 🧪 Scraping Test - Pipeline de scraping (étape 1)\n",
    "\n",
    "Ce notebook a pour objectif de tester le pipeline de scraping sur un échantillon de produits depuis eBay.\n",
    "\n",
    "🎯 **Objectif** :\n",
    "- Identifier les balises HTML utiles\n",
    "- Tester la récupération des informations (titre, prix, lien)\n",
    "- Éviter la surcharge mémoire, disque et processeur\n",
    "- Valider la faisabilité du scraping\n",
    "\n",
    "🔄 **Pipeline de scraping (résumé)** :\n",
    "1. Définir les sites à scraper\n",
    "2. Inspecter la structure HTML des pages\n",
    "3. Identifier les sélecteurs (balises CSS/HTML)\n",
    "4. Automatiser avec `requests` et `BeautifulSoup`\n",
    "5. Limiter à quelques résultats (`limit=5`)\n",
    "6. Ne pas stocker localement pour ce test\n"
   ]
  },
  {
   "cell_type": "code",
   "execution_count": 3,
   "id": "fa689c31-7b8b-4ac3-829d-af29650663ec",
   "metadata": {},
   "outputs": [
    {
     "name": "stdout",
     "output_type": "stream",
     "text": [
      "Nom : Shop on eBay\n",
      "Prix : $20.00\n",
      "Lien : https://ebay.com/itm/123456?itmmeta=012DEW30YG0MEEKND7NH&hash=item123546:g:acwAA9KNiJowH:sc:ShippingMethodStandard!95008!US!-1&itmprp=enc%3AbgepL1tlUHjMGCVfSTGJh%2BzsVKeJ3CQk7NizDI4BZeppuFnmyS6Ijyp8lh%2FnEw%2BWqO7uTV1Q6izE1R0T54aV8j71F4xlWfVcGft4%2FiOQhtqVXA1rW6M1atPARQRmhqUxtEPJKhKtSFgI%2Bvwlzb0GwVCtkp%3ABlBMUObkmabpYw\n",
      "--------------------------------------------------\n",
      "Nom : Shop on eBay\n",
      "Prix : $20.00\n",
      "Lien : https://ebay.com/itm/123456?itmmeta=012DEW30YG0MEEKND7NH&hash=item123546:g:acwAA9KNiJowH:sc:ShippingMethodStandard!95008!US!-1&itmprp=enc%3AbgepL1tlUHjMGCVfSTGJh%2BzsVKeJ3CQk7NizDI4BZeppuFnmyS6Ijyp8lh%2FnEw%2BWqO7uTV1Q6izE1R0T54aV8j71F4xlWfVcGft4%2FiOQhtqVXA1rW6M1atPARQRmhqUxtEPJKhKtSFgI%2Bvwlzb0GwVCtkp%3ABlBMUObkmabpYw\n",
      "--------------------------------------------------\n",
      "Nom : Dell Latitude 5420 Laptop 14\" Windows 11 Intel Core i5 4.4GHz 8GB RAM 128GB SSD\n",
      "Prix : $211.40\n",
      "Lien : https://www.ebay.com/itm/254582474636?_skw=laptop&hash=item3b464c478c:g:fjgAAOSw7XdoIwd3&itmprp=enc%3AAQAKAAAA4FkggFvd1GGDu0w3yXCmi1d2u%2BTJbpfFCtqBvCGWMvOfwGYUdBf0vbUDSuT%2Fx8QFbAMnvQmv%2F7HMTEIGzlTCdopAOhr6L1M4SLJvONao1rOuwVwVeXNjCByEnnMi%2B6OQqL%2FLbLIzPbuYYsVJxp%2FIVXlxR5%2BvtH%2B5Cfcq%2FqJpz03p15a4ApdxzMl%2BHYp71PK79HHNVHWmBdrTjgdNhwXdJsjtLRCokupbffSjUkuqfY5NI4VPEAC%2BLOnmlX%2BBEiEPZMfUZHtMrpIurlGI93lf8hAugfRr7yz1ochwj1JCkYme%7Ctkp%3ABFBMsrSo099l\n",
      "--------------------------------------------------\n"
     ]
    }
   ],
   "source": [
    "produits = [\n",
    "    {\n",
    "        \"nom\": \"Shop on eBay\",\n",
    "        \"prix\": \"$20.00\",\n",
    "        \"lien\": \"https://ebay.com/itm/123456?itmmeta=012DEW30YG0MEEKND7NH&hash=item123546:g:acwAA9KNiJowH:sc:ShippingMethodStandard!95008!US!-1&itmprp=enc%3AbgepL1tlUHjMGCVfSTGJh%2BzsVKeJ3CQk7NizDI4BZeppuFnmyS6Ijyp8lh%2FnEw%2BWqO7uTV1Q6izE1R0T54aV8j71F4xlWfVcGft4%2FiOQhtqVXA1rW6M1atPARQRmhqUxtEPJKhKtSFgI%2Bvwlzb0GwVCtkp%3ABlBMUObkmabpYw\"\n",
    "    },\n",
    "    {\n",
    "        \"nom\": \"Shop on eBay\",\n",
    "        \"prix\": \"$20.00\",\n",
    "        \"lien\": \"https://ebay.com/itm/123456?itmmeta=012DEW30YG0MEEKND7NH&hash=item123546:g:acwAA9KNiJowH:sc:ShippingMethodStandard!95008!US!-1&itmprp=enc%3AbgepL1tlUHjMGCVfSTGJh%2BzsVKeJ3CQk7NizDI4BZeppuFnmyS6Ijyp8lh%2FnEw%2BWqO7uTV1Q6izE1R0T54aV8j71F4xlWfVcGft4%2FiOQhtqVXA1rW6M1atPARQRmhqUxtEPJKhKtSFgI%2Bvwlzb0GwVCtkp%3ABlBMUObkmabpYw\"\n",
    "    },\n",
    "    {\n",
    "        \"nom\": \"Dell Latitude 5420 Laptop 14\\\" Windows 11 Intel Core i5 4.4GHz 8GB RAM 128GB SSD\",\n",
    "        \"prix\": \"$211.40\",\n",
    "        \"lien\": \"https://www.ebay.com/itm/254582474636?_skw=laptop&hash=item3b464c478c:g:fjgAAOSw7XdoIwd3&itmprp=enc%3AAQAKAAAA4FkggFvd1GGDu0w3yXCmi1d2u%2BTJbpfFCtqBvCGWMvOfwGYUdBf0vbUDSuT%2Fx8QFbAMnvQmv%2F7HMTEIGzlTCdopAOhr6L1M4SLJvONao1rOuwVwVeXNjCByEnnMi%2B6OQqL%2FLbLIzPbuYYsVJxp%2FIVXlxR5%2BvtH%2B5Cfcq%2FqJpz03p15a4ApdxzMl%2BHYp71PK79HHNVHWmBdrTjgdNhwXdJsjtLRCokupbffSjUkuqfY5NI4VPEAC%2BLOnmlX%2BBEiEPZMfUZHtMrpIurlGI93lf8hAugfRr7yz1ochwj1JCkYme%7Ctkp%3ABFBMsrSo099l\"\n",
    "    },\n",
    "    # Tu peux continuer de la même façon...\n",
    "]\n",
    "\n",
    "# Exemple d'affichage propre :\n",
    "for produit in produits:\n",
    "    print(f\"Nom : {produit['nom']}\")\n",
    "    print(f\"Prix : {produit['prix']}\")\n",
    "    print(f\"Lien : {produit['lien']}\")\n",
    "    print(\"-\" * 50)\n"
   ]
  },
  {
   "cell_type": "code",
   "execution_count": 4,
   "id": "14587cc8-2ba6-4ec2-8587-808513a8af63",
   "metadata": {},
   "outputs": [
    {
     "name": "stdout",
     "output_type": "stream",
     "text": [
      "Nom : Shop on eBayOpens in a new window or tabBrand New$20.00or Best OfferSponsored\n",
      "Prix : $20.00\n",
      "Lien : https://ebay.com/itm/123456?itmmeta=012DEW30YG0MEEKND7NH&hash=item123546:g:acwAA9KNiJowH:sc:ShippingMethodStandard!95008!US!-1&itmprp=enc%3AbgepL1tlUHjMGCVfSTGJh%2BzsVKeJ3CQk7NizDI4BZeppuFnmyS6Ijyp8lh%2FnEw%2BWqO7uTV1Q6izE1R0T54aV8j71F4xlWfVcGft4%2FiOQhtqVXA1rW6M1atPARQRmhqUxtEPJKhKtSFgI%2Bvwlzb0GwVCtkp%3ABlBMUObkmabpYw\n",
      "--------------------------------------------------\n",
      "Nom : Shop on eBayOpens in a new window or tabBrand New$20.00or Best OfferSponsored\n",
      "Prix : $20.00\n",
      "Lien : https://ebay.com/itm/123456?itmmeta=012DEW30YG0MEEKND7NH&hash=item123546:g:acwAA9KNiJowH:sc:ShippingMethodStandard!95008!US!-1&itmprp=enc%3AbgepL1tlUHjMGCVfSTGJh%2BzsVKeJ3CQk7NizDI4BZeppuFnmyS6Ijyp8lh%2FnEw%2BWqO7uTV1Q6izE1R0T54aV8j71F4xlWfVcGft4%2FiOQhtqVXA1rW6M1atPARQRmhqUxtEPJKhKtSFgI%2Bvwlzb0GwVCtkp%3ABlBMUObkmabpYw\n",
      "--------------------------------------------------\n",
      "Nom : Dell Latitude 5420 Laptop 14\" Windows 11 Intel Core i5 4.4GHz 8GB RAM 128GB SSDOpens in a new window or tabGood - Refurbished · Dell$211.40or Best Offer+$173.63 deliveryfrom United StateseBay Refurbished1,616 soldSponsoredTop Rated SellerTop Rated Sellerdiscountcomputerdepot (131,004) 98.7%\n",
      "Prix : $211.40\n",
      "Lien : https://www.ebay.com/itm/254582474636?_skw=laptop&hash=item3b464c478c:g:fjgAAOSw7XdoIwd3&itmprp=enc%3AAQAKAAAA4FkggFvd1GGDu0w3yXCmi1d2u%2BTJbpfFCtqBvCGWMvOfwGYUdBf0vbUDSuT%2Fx8QFbAMnvQmv%2F7HMTEIGzlTCdopAOhr6L1M4SLJvONao1rOuwVwVeXNjCByEnnMi%2B6OQqL%2FLbLIzPbuYYsVJxp%2FIVXmcXrtDRn0gt4grVYRQKIfpgpEvWs%2FWAgYCEpX9RTleAeLK7%2B5CngCXmMmSGnINPyzcjTEcWIVix%2BZHysmj4A8%2B%2B2iMnJOuCTEDAkwQuty6PEczDMR212OqcraGaz8fIC7u7i0%2Bl6dE90TyCGicS4uT%7Ctkp%3ABFBMqpXS099l\n",
      "--------------------------------------------------\n",
      "Nom : Dell Latitude 5410 14\" HD Laptop 4-Core i5 4.2GHz 16GB RAM 256GB SSD Windows 10Opens in a new window or tabVery Good - Refurbished · Dell$241.03Buy It Now+$177.48 deliveryfrom United StateseBay Refurbished135 soldSponsoredTop Rated SellerTop Rated Sellerdiscountcomputerdepot (131,004) 98.7%\n",
      "Prix : $241.03\n",
      "Lien : https://www.ebay.com/itm/256687932761?_skw=laptop&hash=item3bc3cb0559:g:tpcAAOSwMSNn91a0&itmprp=enc%3AAQAKAAAA4FkggFvd1GGDu0w3yXCmi1dWI6fjlFVRrOVRuaXBGp717d%2Biyg6lf%2FuZEGVuAkB%2FWgC4p7fK1qHl7KnR%2BnGfn7bYTGaTmVvasaE42LiDuUhBXAtWXfHisCeF4DrMxIPjE9FEQC%2FmROqG7BmeF7nnE8U%2ByfdSGACWMqCypvShIkHy%2BdhVGKHRZcneMWSjXs00EtTEWA6pzhqgkziEkdfv4Co8wXDK5%2FcgdmaBHuMBYLlTua8bSimb5cXfDcv9vyHiRKSQY7E%2FfBfPIUw8dBwjlqPoJIdpUwFg1ToLt0SwAR19%7Ctkp%3ABFBMrJXS099l\n",
      "--------------------------------------------------\n",
      "Nom : ~Clearance~ 15.6\" DELL Latitude Laptop: Intel i5! 8GB RAM~256GB SSD! Windows 10Opens in a new window or tab15.6\" HD Display! Wi-Fi Ready!Good - Refurbished · Dell$169.99Was: $219.9923% offBuy It Now+$169.33 deliveryfrom United StateseBay RefurbishedLast oneSponsoredTop Rated SellerTop Rated Sellerrinuvo (7,147) 99.3%\n",
      "Prix : $169.99\n",
      "Lien : https://www.ebay.com/itm/116436274952?_skw=laptop&hash=item1b1c248f08:g:am0AAOSwv1tneDYc&itmprp=enc%3AAQAKAAAA4FkggFvd1GGDu0w3yXCmi1cTWFGvAOHoirAAiGLGvSWaROY5Mi1xveyHi8mHDFBWVuow%2BVGVH4gCq9MG5acTXJYwioLNzzAea0S7Fji3bFNRayBpuzu1U15fqyAW0yxYBJQtPm7zo6h1vMxglt4MVjq2M8W00UhFXXWFBBvwDrz0x8iRFuwOHl%2B7UvlCYPjWx%2ByhZJIAsgwsB92gHk5xP8HvU1zZjNJ3Tgde3pP5yo1FgQ839hTOOO3%2FyKOkH349ZLAlIR3nA%2B1puNoeiGM0DugR4K9Qagy2RhGtiAnq1AUt%7Ctkp%3ABFBMrJXS099l\n",
      "--------------------------------------------------\n"
     ]
    }
   ],
   "source": [
    "# Import des bibliothèques nécessaires\n",
    "import requests\n",
    "from bs4 import BeautifulSoup\n",
    "\n",
    "# URL de la recherche eBay\n",
    "url = \"https://www.ebay.com/sch/i.html?_nkw=laptop\"\n",
    "headers = {\"User-Agent\": \"Mozilla/5.0\"}\n",
    "\n",
    "# Envoi de la requête HTTP\n",
    "response = requests.get(url, headers=headers)\n",
    "\n",
    "# Analyse du contenu HTML avec BeautifulSoup\n",
    "soup = BeautifulSoup(response.content, \"html.parser\")\n",
    "\n",
    "# Extraction de 5 éléments (limitation volontaire)\n",
    "items = soup.find_all(\"li\", class_=\"s-item\", limit=5)\n",
    "\n",
    "# Affichage des informations extraites\n",
    "for item in items:\n",
    "    # Essai 1 : balise <h3> avec la classe connue\n",
    "    title = item.find(\"h3\", class_=\"s-item__title\")\n",
    "    \n",
    "    # Essai 2 : si <h3> existe mais vide ou contient \"New Listing\"\n",
    "    if title and (\"New Listing\" in title.text or not title.text.strip()):\n",
    "        title = item.find(\"div\", class_=\"s-item__title\")\n",
    "    \n",
    "    # Essai 3 : fallback générique si toujours rien\n",
    "    if not title or not title.text.strip():\n",
    "        title = item.find([\"h3\", \"div\", \"span\"])\n",
    "    \n",
    "    price = item.find(\"span\", class_=\"s-item__price\")\n",
    "    link = item.find(\"a\", class_=\"s-item__link\")\n",
    "\n",
    "    print(\"Nom :\", title.text.strip() if title and title.text.strip() else \"Non trouvé\")\n",
    "    print(\"Prix :\", price.text.strip() if price else \"Non trouvé\")\n",
    "    print(\"Lien :\", link['href'] if link else \"Non trouvé\")\n",
    "    print(\"-\" * 50)\n"
   ]
  },
  {
   "cell_type": "code",
   "execution_count": null,
   "id": "987dbde9-3949-43df-90bf-f7aad6fa6301",
   "metadata": {},
   "outputs": [],
   "source": []
  }
 ],
 "metadata": {
  "kernelspec": {
   "display_name": "Python 3.13 (Custom)",
   "language": "python",
   "name": "python313"
  },
  "language_info": {
   "codemirror_mode": {
    "name": "ipython",
    "version": 3
   },
   "file_extension": ".py",
   "mimetype": "text/x-python",
   "name": "python",
   "nbconvert_exporter": "python",
   "pygments_lexer": "ipython3",
   "version": "3.11.11"
  }
 },
 "nbformat": 4,
 "nbformat_minor": 5
}
