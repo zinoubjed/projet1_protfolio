{
  "cells": [
    {
      "cell_type": "code",
      "execution_count": null,
      "id": "26db0a54-923e-4da3-9117-ff78b0d11f0f",
      "metadata": {},
      "outputs": [],
      "source": []
    }
  ],
  "metadata": {
    "kernelspec": {
      "display_name": "Python 3.13 (Custom)",
      "language": "python",
      "name": "python313"
    },
    "language_info": {
      "codemirror_mode": {
        "name": "ipython",
        "version": 3
      },
      "file_extension": ".py",
      "mimetype": "text/x-python",
      "name": "python",
      "nbconvert_exporter": "python",
      "pygments_lexer": "ipython3",
      "version": "3.11.11"
    }
  },
  "nbformat": 4,
  "nbformat_minor": 5
}