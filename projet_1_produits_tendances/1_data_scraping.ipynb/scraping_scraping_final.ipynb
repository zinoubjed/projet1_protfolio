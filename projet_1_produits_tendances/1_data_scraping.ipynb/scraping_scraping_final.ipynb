{
 "cells": [
  {
   "cell_type": "code",
   "execution_count": 5,
   "id": "d7e8f34e-4e48-4833-8f2e-7a7bb992af9a",
   "metadata": {},
   "outputs": [
    {
     "name": "stdout",
     "output_type": "stream",
     "text": [
      "C:\\Users\\USER\\anaconda3\\envs\\produits_env\\python.exe\n"
     ]
    }
   ],
   "source": [
    "import sys\n",
    "print(sys.executable)\n"
   ]
  },
  {
   "cell_type": "code",
   "execution_count": 3,
   "id": "660945d2-92c6-4378-92c2-fee73a6e7c89",
   "metadata": {},
   "outputs": [
    {
     "name": "stdout",
     "output_type": "stream",
     "text": [
      "✅ Données sauvegardées dans data/raw/scraping_final.csv\n"
     ]
    }
   ],
   "source": [
    "import pandas as pd\n",
    "import requests\n",
    "from bs4 import BeautifulSoup\n",
    "import os\n",
    "\n",
    "url = \"http://books.toscrape.com/catalogue/page-1.html\"\n",
    "response = requests.get(url)\n",
    "soup = BeautifulSoup(response.content, \"html.parser\")\n",
    "\n",
    "# Extraire les titres de livres et les prix\n",
    "books = soup.find_all(\"article\", class_=\"product_pod\")\n",
    "titles = [book.h3.a[\"title\"] for book in books]\n",
    "prices = [book.find(\"p\", class_=\"price_color\").text.strip() for book in books]\n",
    "\n",
    "# Créer un DataFrame\n",
    "df = pd.DataFrame({\"Titre\": titles, \"Prix\": prices})\n",
    "\n",
    "# Créer le dossier si besoin\n",
    "os.makedirs(\"data/raw\", exist_ok=True)\n",
    "\n",
    "# Enregistrer les résultats\n",
    "df.to_csv(\"data/raw/scraping_final.csv\", index=False)\n",
    "\n",
    "print(\"✅ Données sauvegardées dans data/raw/scraping_final.csv\")\n"
   ]
  },
  {
   "cell_type": "code",
   "execution_count": 4,
   "id": "7f465ff9-47c7-46bc-b1e9-566605be25d3",
   "metadata": {},
   "outputs": [
    {
     "name": "stdout",
     "output_type": "stream",
     "text": [
      "Fichier CSV créé avec succès.\n"
     ]
    }
   ],
   "source": [
    "import pandas as pd\n",
    "\n",
    "# Exemple de DataFrame simple\n",
    "data = {\n",
    "    \"produit\": [\"Produit A\", \"Produit B\"],\n",
    "    \"prix\": [10.5, 20.0],\n",
    "    \"quantite\": [5, 3]\n",
    "}\n",
    "\n",
    "df = pd.DataFrame(data)\n",
    "\n",
    "# Création du dossier 'data/raw' s'il n'existe pas\n",
    "import os\n",
    "os.makedirs(\"data/raw\", exist_ok=True)\n",
    "\n",
    "# Sauvegarde du DataFrame en CSV\n",
    "df.to_csv(\"data/raw/scraping_final.csv\", index=False)\n",
    "print(\"Fichier CSV créé avec succès.\")\n"
   ]
  },
  {
   "cell_type": "code",
   "execution_count": null,
   "id": "3b7b558f-a287-4040-8a27-518bac15db34",
   "metadata": {},
   "outputs": [],
   "source": []
  },
  {
   "cell_type": "code",
   "execution_count": null,
   "id": "3abc0930-98f4-47c3-ab3f-9095f4b28af3",
   "metadata": {},
   "outputs": [],
   "source": []
  },
  {
   "cell_type": "code",
   "execution_count": null,
   "id": "6fdd7c80-4bbc-40fe-946b-653a19ca2689",
   "metadata": {},
   "outputs": [],
   "source": []
  }
 ],
 "metadata": {
  "kernelspec": {
   "display_name": "Python 3.13 (Custom)",
   "language": "python",
   "name": "python313"
  },
  "language_info": {
   "codemirror_mode": {
    "name": "ipython",
    "version": 3
   },
   "file_extension": ".py",
   "mimetype": "text/x-python",
   "name": "python",
   "nbconvert_exporter": "python",
   "pygments_lexer": "ipython3",
   "version": "3.11.11"
  }
 },
 "nbformat": 4,
 "nbformat_minor": 5
}
