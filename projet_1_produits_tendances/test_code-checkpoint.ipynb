{
  "cells": [],
  "metadata": {
    "kernelspec": {
      "name": "python313",
      "display_name": "Python 3.13 (Custom)",
      "language": "python"
    }
  },
  "nbformat": 4,
  "nbformat_minor": 5
}